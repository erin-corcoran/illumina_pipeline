{
 "cells": [
  {
   "cell_type": "code",
   "execution_count": 1,
   "metadata": {},
   "outputs": [
    {
     "ename": "ImportError",
     "evalue": "Unable to import required dependencies:\nnumpy: \n\nIMPORTANT: PLEASE READ THIS FOR ADVICE ON HOW TO SOLVE THIS ISSUE!\n\nImporting the numpy C-extensions failed. This error can happen for\nmany reasons, often due to issues with your setup or how NumPy was\ninstalled.\n\nWe have compiled some common reasons and troubleshooting tips at:\n\n    https://numpy.org/devdocs/user/troubleshooting-importerror.html\n\nPlease note and check the following:\n\n  * The Python version is: Python3.7 from \"/Applications/anaconda3/envs/illumina-pipeline/bin/python\"\n  * The NumPy version is: \"1.21.2\"\n\nand make sure that they are the versions you expect.\nPlease carefully study the documentation linked above for further help.\n\nOriginal error was: dlopen(/Applications/anaconda3/envs/illumina-pipeline/lib/python3.7/site-packages/numpy/core/_multiarray_umath.cpython-37m-darwin.so, 0x0002): Library not loaded: @rpath/libopenblas.dylib\n  Referenced from: <2965F851-F7B7-3AED-9255-16730E2AC6BA> /Applications/anaconda3/envs/illumina-pipeline/lib/python3.7/site-packages/numpy/core/_multiarray_umath.cpython-37m-darwin.so\n  Reason: tried: '/Applications/anaconda3/envs/illumina-pipeline/lib/libopenblas.dylib' (no such file), '/System/Volumes/Preboot/Cryptexes/OS/Applications/anaconda3/envs/illumina-pipeline/lib/libopenblas.dylib' (no such file), '/Applications/anaconda3/envs/illumina-pipeline/lib/libopenblas.dylib' (no such file), '/System/Volumes/Preboot/Cryptexes/OS/Applications/anaconda3/envs/illumina-pipeline/lib/libopenblas.dylib' (no such file), '/Applications/anaconda3/envs/illumina-pipeline/lib/python3.7/site-packages/numpy/core/../../../../libopenblas.dylib' (no such file), '/Applications/anaconda3/envs/illumina-pipeline/lib/libopenblas.dylib' (no such file), '/System/Volumes/Preboot/Cryptexes/OS/Applications/anaconda3/envs/illumina-pipeline/lib/libopenblas.dylib' (no such file), '/Applications/anaconda3/envs/illumina-pipeline/lib/libopenblas.dylib' (no such file), '/System/Volumes/Preboot/Cryptexes/OS/Applications/anaconda3/envs/illumina-pipeline/lib/libopenblas.dylib' (no such file), '/Applications/anaconda3/envs/illumina-pipeline/lib/python3.7/site-packages/numpy/core/../../../../libopenblas.dylib' (no such file), '/Applications/anaconda3/envs/illumina-pipeline/lib/libopenblas.dylib' (no such file), '/System/Volumes/Preboot/Cryptexes/OS/Applications/anaconda3/envs/illumina-pipeline/lib/libopenblas.dylib' (no such file), '/Applications/anaconda3/envs/illumina-pipeline/lib/libopenblas.dylib' (no such file), '/System/Volumes/Preboot/Cryptexes/OS/Applications/anaconda3/envs/illumina-pipeline/lib/libopenblas.dylib' (no such file), '/Applications/anaconda3/envs/illumina-pipeline/bin/../lib/libopenblas.dylib' (no such file), '/Applications/anaconda3/envs/illumina-pipeline/lib/libopenblas.dylib' (no such file), '/System/Volumes/Preboot/Cryptexes/OS/Applications/anaconda3/envs/illumina-pipeline/lib/libopenblas.dylib' (no such file), '/Applications/anaconda3/envs/illumina-pipeline/lib/libopenblas.dylib' (no such file), '/System/Volumes/Preboot/Cryptexes/OS/Applications/anaconda3/envs/illumina-pipeline/lib/libopenblas.dylib' (no such file), '/Applications/anaconda3/envs/illumina-pipeline/bin/../lib/libopenblas.dylib' (no such file), '/usr/local/lib/libopenblas.dylib' (no such file), '/usr/lib/libopenblas.dylib' (no such file, not in dyld cache)\n",
     "output_type": "error",
     "traceback": [
      "\u001b[0;31m---------------------------------------------------------------------------\u001b[0m",
      "\u001b[0;31mImportError\u001b[0m                               Traceback (most recent call last)",
      "\u001b[0;32m<ipython-input-1-9281d63778f7>\u001b[0m in \u001b[0;36m<module>\u001b[0;34m\u001b[0m\n\u001b[1;32m      1\u001b[0m \u001b[0;32mimport\u001b[0m \u001b[0msubprocess\u001b[0m\u001b[0;34m\u001b[0m\u001b[0;34m\u001b[0m\u001b[0m\n\u001b[0;32m----> 2\u001b[0;31m \u001b[0;32mimport\u001b[0m \u001b[0mpandas\u001b[0m \u001b[0;32mas\u001b[0m \u001b[0mpd\u001b[0m\u001b[0;34m\u001b[0m\u001b[0;34m\u001b[0m\u001b[0m\n\u001b[0m\u001b[1;32m      3\u001b[0m \u001b[0;34m\u001b[0m\u001b[0m\n\u001b[1;32m      4\u001b[0m \u001b[0msequences\u001b[0m \u001b[0;34m=\u001b[0m \u001b[0mpd\u001b[0m\u001b[0;34m.\u001b[0m\u001b[0mread_csv\u001b[0m\u001b[0;34m(\u001b[0m\u001b[0;34m'/Users/erinmairecorcoran/Documents/GitHub/GEO311/data/final/BleachingSequences.csv'\u001b[0m\u001b[0;34m)\u001b[0m\u001b[0;34m\u001b[0m\u001b[0;34m\u001b[0m\u001b[0m\n\u001b[1;32m      5\u001b[0m \u001b[0;34m\u001b[0m\u001b[0m\n",
      "\u001b[0;32m/Applications/anaconda3/envs/illumina-pipeline/lib/python3.7/site-packages/pandas/__init__.py\u001b[0m in \u001b[0;36m<module>\u001b[0;34m\u001b[0m\n\u001b[1;32m     15\u001b[0m \u001b[0;32mif\u001b[0m \u001b[0mmissing_dependencies\u001b[0m\u001b[0;34m:\u001b[0m\u001b[0;34m\u001b[0m\u001b[0;34m\u001b[0m\u001b[0m\n\u001b[1;32m     16\u001b[0m     raise ImportError(\n\u001b[0;32m---> 17\u001b[0;31m         \u001b[0;34m\"Unable to import required dependencies:\\n\"\u001b[0m \u001b[0;34m+\u001b[0m \u001b[0;34m\"\\n\"\u001b[0m\u001b[0;34m.\u001b[0m\u001b[0mjoin\u001b[0m\u001b[0;34m(\u001b[0m\u001b[0mmissing_dependencies\u001b[0m\u001b[0;34m)\u001b[0m\u001b[0;34m\u001b[0m\u001b[0;34m\u001b[0m\u001b[0m\n\u001b[0m\u001b[1;32m     18\u001b[0m     )\n\u001b[1;32m     19\u001b[0m \u001b[0;32mdel\u001b[0m \u001b[0mhard_dependencies\u001b[0m\u001b[0;34m,\u001b[0m \u001b[0mdependency\u001b[0m\u001b[0;34m,\u001b[0m \u001b[0mmissing_dependencies\u001b[0m\u001b[0;34m\u001b[0m\u001b[0;34m\u001b[0m\u001b[0m\n",
      "\u001b[0;31mImportError\u001b[0m: Unable to import required dependencies:\nnumpy: \n\nIMPORTANT: PLEASE READ THIS FOR ADVICE ON HOW TO SOLVE THIS ISSUE!\n\nImporting the numpy C-extensions failed. This error can happen for\nmany reasons, often due to issues with your setup or how NumPy was\ninstalled.\n\nWe have compiled some common reasons and troubleshooting tips at:\n\n    https://numpy.org/devdocs/user/troubleshooting-importerror.html\n\nPlease note and check the following:\n\n  * The Python version is: Python3.7 from \"/Applications/anaconda3/envs/illumina-pipeline/bin/python\"\n  * The NumPy version is: \"1.21.2\"\n\nand make sure that they are the versions you expect.\nPlease carefully study the documentation linked above for further help.\n\nOriginal error was: dlopen(/Applications/anaconda3/envs/illumina-pipeline/lib/python3.7/site-packages/numpy/core/_multiarray_umath.cpython-37m-darwin.so, 0x0002): Library not loaded: @rpath/libopenblas.dylib\n  Referenced from: <2965F851-F7B7-3AED-9255-16730E2AC6BA> /Applications/anaconda3/envs/illumina-pipeline/lib/python3.7/site-packages/numpy/core/_multiarray_umath.cpython-37m-darwin.so\n  Reason: tried: '/Applications/anaconda3/envs/illumina-pipeline/lib/libopenblas.dylib' (no such file), '/System/Volumes/Preboot/Cryptexes/OS/Applications/anaconda3/envs/illumina-pipeline/lib/libopenblas.dylib' (no such file), '/Applications/anaconda3/envs/illumina-pipeline/lib/libopenblas.dylib' (no such file), '/System/Volumes/Preboot/Cryptexes/OS/Applications/anaconda3/envs/illumina-pipeline/lib/libopenblas.dylib' (no such file), '/Applications/anaconda3/envs/illumina-pipeline/lib/python3.7/site-packages/numpy/core/../../../../libopenblas.dylib' (no such file), '/Applications/anaconda3/envs/illumina-pipeline/lib/libopenblas.dylib' (no such file), '/System/Volumes/Preboot/Cryptexes/OS/Applications/anaconda3/envs/illumina-pipeline/lib/libopenblas.dylib' (no such file), '/Applications/anaconda3/envs/illumina-pipeline/lib/libopenblas.dylib' (no such file), '/System/Volumes/Preboot/Cryptexes/OS/Applications/anaconda3/envs/illumina-pipeline/lib/libopenblas.dylib' (no such file), '/Applications/anaconda3/envs/illumina-pipeline/lib/python3.7/site-packages/numpy/core/../../../../libopenblas.dylib' (no such file), '/Applications/anaconda3/envs/illumina-pipeline/lib/libopenblas.dylib' (no such file), '/System/Volumes/Preboot/Cryptexes/OS/Applications/anaconda3/envs/illumina-pipeline/lib/libopenblas.dylib' (no such file), '/Applications/anaconda3/envs/illumina-pipeline/lib/libopenblas.dylib' (no such file), '/System/Volumes/Preboot/Cryptexes/OS/Applications/anaconda3/envs/illumina-pipeline/lib/libopenblas.dylib' (no such file), '/Applications/anaconda3/envs/illumina-pipeline/bin/../lib/libopenblas.dylib' (no such file), '/Applications/anaconda3/envs/illumina-pipeline/lib/libopenblas.dylib' (no such file), '/System/Volumes/Preboot/Cryptexes/OS/Applications/anaconda3/envs/illumina-pipeline/lib/libopenblas.dylib' (no such file), '/Applications/anaconda3/envs/illumina-pipeline/lib/libopenblas.dylib' (no such file), '/System/Volumes/Preboot/Cryptexes/OS/Applications/anaconda3/envs/illumina-pipeline/lib/libopenblas.dylib' (no such file), '/Applications/anaconda3/envs/illumina-pipeline/bin/../lib/libopenblas.dylib' (no such file), '/usr/local/lib/libopenblas.dylib' (no such file), '/usr/lib/libopenblas.dylib' (no such file, not in dyld cache)\n"
     ]
    }
   ],
   "source": [
    "import subprocess\n",
    "import pandas as pd \n",
    "\n",
    "sequences = pd.read_csv('/Users/erinmairecorcoran/Documents/GitHub/GEO311/data/final/BleachingSequences.csv')\n",
    "\n",
    "sra_ids = sequences[\"SRA_run_ID\"]\n",
    "\n",
    "for SRA_run_ID in sra_ids:\n",
    "    # using prefetch to download sra file\n",
    "    subprocess.run([\"/Users/erinmairecorcoran/Downloads/sratoolkit.3.1.1-mac-arm64/bin/prefetch\", SRA_run_ID])\n",
    "    \n",
    "    # changing the sra file into FASTQ format\n",
    "    subprocess.run([\"/Users/erinmairecorcoran/Downloads/sratoolkit.3.1.1-mac-arm64/bin/fastq-dump\", \"--split-files\", SRA_run_ID])\n",
    "\n"
   ]
  },
  {
   "cell_type": "markdown",
   "metadata": {},
   "source": []
  }
 ],
 "metadata": {
  "kernelspec": {
   "display_name": "myenv",
   "language": "python",
   "name": "python3"
  },
  "language_info": {
   "codemirror_mode": {
    "name": "ipython",
    "version": 3
   },
   "file_extension": ".py",
   "mimetype": "text/x-python",
   "name": "python",
   "nbconvert_exporter": "python",
   "pygments_lexer": "ipython3",
   "version": "3.7.6"
  }
 },
 "nbformat": 4,
 "nbformat_minor": 2
}
